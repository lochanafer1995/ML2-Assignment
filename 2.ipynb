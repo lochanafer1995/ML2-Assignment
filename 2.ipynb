{
 "cells": [
  {
   "cell_type": "code",
   "execution_count": 95,
   "metadata": {},
   "outputs": [],
   "source": [
    "import tensorflow as tf\n",
    "import matplotlib.pyplot as plt\n",
    "from tensorflow.keras.models import Sequential\n",
    "from tensorflow.keras.layers import Dense, Conv2D, Dropout, Flatten, MaxPooling2D\n",
    "from keras.preprocessing.image import load_img\n",
    "from keras.preprocessing.image import img_to_array\n",
    "from keras.models import load_model\n",
    "import numpy as np\n",
    "\n",
    "# import tensorflow and MNIST dataset under the Keras API\n",
    "(x_train, y_train), (x_test, y_test) = tf.keras.datasets.mnist.load_data()\n",
    "# x_train and x_test parts contain greyscale RGB codes (from 0 to 255)\n",
    "# y_train and y_test parts contains labels from 0 to 9"
   ]
  },
  {
   "cell_type": "code",
   "execution_count": 96,
   "metadata": {},
   "outputs": [
    {
     "name": "stdout",
     "output_type": "stream",
     "text": [
      "8\n"
     ]
    },
    {
     "data": {
      "text/plain": [
       "<matplotlib.image.AxesImage at 0x2e02d08d348>"
      ]
     },
     "execution_count": 96,
     "metadata": {},
     "output_type": "execute_result"
    },
    {
     "data": {
      "image/png": "[encoded data removed]",
      "text/plain": [
       "<Figure size 432x288 with 1 Axes>"
      ]
     },
     "metadata": {
      "needs_background": "light"
     },
     "output_type": "display_data"
    }
   ],
   "source": [
    "image_index = 7777 \n",
    "print(y_train[image_index]) \n",
    "plt.imshow(x_train[image_index], cmap='Greys')"
   ]
  },
  {
   "cell_type": "code",
   "execution_count": 97,
   "metadata": {},
   "outputs": [
    {
     "data": {
      "text/plain": [
       "(60000, 28, 28)"
      ]
     },
     "execution_count": 97,
     "metadata": {},
     "output_type": "execute_result"
    }
   ],
   "source": [
    "x_train.shape"
   ]
  },
  {
   "cell_type": "code",
   "execution_count": 98,
   "metadata": {},
   "outputs": [
    {
     "name": "stdout",
     "output_type": "stream",
     "text": [
      "x_train shape: (60000, 28, 28, 1)\n",
      "Number of images in x_train 60000\n",
      "Number of images in x_test 10000\n"
     ]
    }
   ],
   "source": [
    "# Reshaping and Normalizing the Images\n",
    "# Reshaping the array to 4-dims so that it can work with the Keras API\n",
    "x_train = x_train.reshape(x_train.shape[0], 28, 28, 1)\n",
    "x_test = x_test.reshape(x_test.shape[0], 28, 28, 1)\n",
    "input_shape = (28, 28, 1)\n",
    "x_train = x_train.astype('float32')\n",
    "x_test = x_test.astype('float32')\n",
    "# Normalizing the RGB codes by dividing it to the max RGB value.\n",
    "x_train /= 255\n",
    "x_test /= 255\n",
    "print('x_train shape:', x_train.shape)\n",
    "print('Number of images in x_train', x_train.shape[0])\n",
    "print('Number of images in x_test', x_test.shape[0])"
   ]
  },
  {
   "cell_type": "code",
   "execution_count": 99,
   "metadata": {},
   "outputs": [],
   "source": [
    "# adding noise to data\n",
    "noise_factor = 0.5\n",
    "x_train_noisy = x_train + noise_factor * np.random.normal(loc=0.0,scale=1.0,size=x_train.shape)\n",
    "x_test_noisy = x_test + noise_factor * np.random.normal(loc=0.0,scale=1.0,size=x_test.shape)\n",
    "x_train_noisy = np.clip(x_train_noisy,0.,1.)\n",
    "x_test_noisy = np.clip(x_test_noisy,0.,1.)"
   ]
  },
  {
   "cell_type": "code",
   "execution_count": 100,
   "metadata": {},
   "outputs": [],
   "source": [
    "# Creating a Sequential Model and adding the layers\n",
    "model = Sequential()\n",
    "# Keras Conv2D is a 2D Convolution Layer, this layer creates a convolution kernel that is wind with layers input which helps produce a tensor of outputs\n",
    "model.add(Conv2D(28, kernel_size=(3,3), input_shape=input_shape))\n",
    "# Max pooling operation for 2D spatial data. Downsamples the input representation by taking the maximum value over the window defined by pool_size for each dimension along the features axis. \n",
    "model.add(MaxPooling2D(pool_size=(2, 2)))\n",
    "# latten layer collapses the spatial dimensions of the input into the channel dimension\n",
    "model.add(Flatten()) \n",
    "# Dropout is a technique used to prevent a model from overfitting. Dropout works by randomly setting the outgoing edges of hidden units (neurons that make up hidden layers) to 0 at each update of the training phase\n",
    "# dense layer is just a regular layer of neurons in a neural network. Each neuron recieves input from all the neurons in the previous layer, thus densely connected\n",
    "model.add(Dense(128, activation=tf.nn.relu))\n",
    "model.add(Dropout(0.2))\n",
    "model.add(Dense(10,activation=tf.nn.softmax))"
   ]
  },
  {
   "cell_type": "code",
   "execution_count": 101,
   "metadata": {},
   "outputs": [
    {
     "name": "stdout",
     "output_type": "stream",
     "text": [
      "Train on 60000 samples, validate on 10000 samples\n",
      "Epoch 1/20\n",
      "60000/60000 [==============================] - 22s 372us/sample - loss: 0.5622 - acc: 0.8203 - val_loss: 0.2850 - val_acc: 0.9131\n",
      "Epoch 2/20\n",
      "60000/60000 [==============================] - 24s 396us/sample - loss: 0.2833 - acc: 0.9103 - val_loss: 0.2221 - val_acc: 0.9285\n",
      "Epoch 3/20\n",
      "60000/60000 [==============================] - 24s 405us/sample - loss: 0.1971 - acc: 0.9368 - val_loss: 0.2102 - val_acc: 0.9341 0.1974 - acc: 0.\n",
      "Epoch 4/20\n",
      "60000/60000 [==============================] - 23s 385us/sample - loss: 0.1430 - acc: 0.9529 - val_loss: 0.2176 - val_acc: 0.9341\n",
      "Epoch 5/20\n",
      "60000/60000 [==============================] - 23s 379us/sample - loss: 0.1060 - acc: 0.9646 - val_loss: 0.2434 - val_acc: 0.9315\n",
      "Epoch 6/20\n",
      "60000/60000 [==============================] - 23s 378us/sample - loss: 0.0848 - acc: 0.9706 - val_loss: 0.2523 - val_acc: 0.9353\n",
      "Epoch 7/20\n",
      "60000/60000 [==============================] - 24s 395us/sample - loss: 0.0711 - acc: 0.9753 - val_loss: 0.2761 - val_acc: 0.9325\n",
      "Epoch 8/20\n",
      "60000/60000 [==============================] - 26s 437us/sample - loss: 0.0625 - acc: 0.9790 - val_loss: 0.3032 - val_acc: 0.9308\n",
      "Epoch 9/20\n",
      "60000/60000 [==============================] - 25s 423us/sample - loss: 0.0538 - acc: 0.9812 - val_loss: 0.2952 - val_acc: 0.9309\n",
      "Epoch 10/20\n",
      "60000/60000 [==============================] - 26s 428us/sample - loss: 0.0493 - acc: 0.9830 - val_loss: 0.3211 - val_acc: 0.9302\n",
      "Epoch 11/20\n",
      "60000/60000 [==============================] - 25s 421us/sample - loss: 0.0479 - acc: 0.9837 - val_loss: 0.3476 - val_acc: 0.9311\n",
      "Epoch 12/20\n",
      "60000/60000 [==============================] - 35s 579us/sample - loss: 0.0413 - acc: 0.9860 - val_loss: 0.3597 - val_acc: 0.9301\n",
      "Epoch 13/20\n",
      "60000/60000 [==============================] - 24s 402us/sample - loss: 0.0424 - acc: 0.9859 - val_loss: 0.4031 - val_acc: 0.9277\n",
      "Epoch 14/20\n",
      "60000/60000 [==============================] - 28s 469us/sample - loss: 0.0411 - acc: 0.9865 - val_loss: 0.3818 - val_acc: 0.9300\n",
      "Epoch 15/20\n",
      "60000/60000 [==============================] - 24s 399us/sample - loss: 0.0360 - acc: 0.9880 - val_loss: 0.4073 - val_acc: 0.9314\n",
      "Epoch 16/20\n",
      "60000/60000 [==============================] - 24s 396us/sample - loss: 0.0339 - acc: 0.9886 - val_loss: 0.4308 - val_acc: 0.9292\n",
      "Epoch 17/20\n",
      "60000/60000 [==============================] - 23s 390us/sample - loss: 0.0339 - acc: 0.9884 - val_loss: 0.4036 - val_acc: 0.9257\n",
      "Epoch 18/20\n",
      "60000/60000 [==============================] - 24s 392us/sample - loss: 0.0329 - acc: 0.9890 - val_loss: 0.4333 - val_acc: 0.9295\n",
      "Epoch 19/20\n",
      "60000/60000 [==============================] - 23s 390us/sample - loss: 0.0313 - acc: 0.9894 - val_loss: 0.4403 - val_acc: 0.9300\n",
      "Epoch 20/20\n",
      "60000/60000 [==============================] - 23s 392us/sample - loss: 0.0324 - acc: 0.9892 - val_loss: 0.4663 - val_acc: 0.9251\n"
     ]
    }
   ],
   "source": [
    "# optimize with a given loss function which uses a metric.Then fit the model by using train data\n",
    "model.compile(optimizer='adam', \n",
    "              loss='sparse_categorical_crossentropy', \n",
    "              metrics=['accuracy'])\n",
    "history = model.fit(x_train_noisy,y_train, epochs=20, batch_size=32, verbose=1,validation_data=(x_test_noisy, y_test))"
   ]
  },
  {
   "cell_type": "code",
   "execution_count": 102,
   "metadata": {},
   "outputs": [
    {
     "name": "stdout",
     "output_type": "stream",
     "text": [
      "10000/10000 [==============================] - 1s 123us/sample - loss: 0.4663 - acc: 0.9251\n",
      "dict_keys(['loss', 'acc', 'val_loss', 'val_acc'])\n"
     ]
    },
    {
     "data": {
      "image/png": "[encoded data removed]",
      "text/plain": [
       "<Figure size 432x288 with 1 Axes>"
      ]
     },
     "metadata": {
      "needs_background": "light"
     },
     "output_type": "display_data"
    }
   ],
   "source": [
    "model.evaluate(x_test_noisy, y_test)\n",
    "model.save('ML2_Assignment2.h5')\n",
    "\n",
    "print(history.history.keys())\n",
    "\n",
    "plt.plot(history.history['acc'])\n",
    "plt.plot(history.history['val_acc'])\n",
    "plt.title('model accuracy')\n",
    "plt.ylabel('accuracy')\n",
    "plt.xlabel('epoch')\n",
    "plt.legend(['train', 'val'], loc='upper left')\n",
    "plt.show()"
   ]
  },
  {
   "cell_type": "code",
   "execution_count": 103,
   "metadata": {},
   "outputs": [
    {
     "name": "stderr",
     "output_type": "stream",
     "text": [
      "C:\\Users\\Loch Maya\\Anaconda2\\envs\\mypython3\\lib\\site-packages\\keras_preprocessing\\image\\utils.py:104: UserWarning: grayscale is deprecated. Please use color_mode = \"grayscale\"\n",
      "  warnings.warn('grayscale is deprecated. Please use '\n"
     ]
    },
    {
     "name": "stdout",
     "output_type": "stream",
     "text": [
      "7\n",
      "5\n"
     ]
    },
    {
     "data": {
      "image/png": "[encoded data removed]",
      "text/plain": [
       "<Figure size 432x288 with 1 Axes>"
      ]
     },
     "metadata": {
      "needs_background": "light"
     },
     "output_type": "display_data"
    }
   ],
   "source": [
    "# load and prepare the image\n",
    "def load_image(filename):\n",
    "    # load the image\n",
    "    img = load_img(filename, grayscale=True, target_size=(28, 28))\n",
    "    # convert to array\n",
    "    img = img_to_array(img)\n",
    "    # reshape into a single sample with 1 channel\n",
    "    img = img.reshape(1, 28, 28, 1)\n",
    "    # prepare pixel data\n",
    "    img = img.astype('float32')\n",
    "    img = img / 255.0\n",
    "    return img\n",
    "\n",
    "image_index = load_image('sample_image1.png')\n",
    "pred = model.predict(image_index)\n",
    "print(pred.argmax())\n",
    "\n",
    "image_index = 4440\n",
    "plt.imshow(x_test[image_index].reshape(28, 28),cmap='Greys')\n",
    "pred = model.predict(x_test[image_index].reshape(1, 28, 28, 1))\n",
    "print(pred.argmax())\n"
   ]
  },
  {
   "cell_type": "code",
   "execution_count": null,
   "metadata": {},
   "outputs": [],
   "source": []
  }
 ],
 "metadata": {
  "kernelspec": {
   "display_name": "Python 3",
   "language": "python",
   "name": "python3"
  },
  "language_info": {
   "codemirror_mode": {
    "name": "ipython",
    "version": 3
   },
   "file_extension": ".py",
   "mimetype": "text/x-python",
   "name": "python",
   "nbconvert_exporter": "python",
   "pygments_lexer": "ipython3",
   "version": "3.7.7"
  }
 },
 "nbformat": 4,
 "nbformat_minor": 4
}
