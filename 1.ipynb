{
 "cells": [
  {
   "cell_type": "code",
   "execution_count": 80,
   "metadata": {},
   "outputs": [],
   "source": [
    "import tensorflow as tf\n",
    "import matplotlib.pyplot as plt\n",
    "from tensorflow.keras.models import Sequential\n",
    "from tensorflow.keras.layers import Dense, Conv2D, Dropout, Flatten, MaxPooling2D\n",
    "from keras.preprocessing.image import load_img\n",
    "from keras.preprocessing.image import img_to_array\n",
    "from keras.models import load_model\n",
    "import numpy as np\n",
    "\n",
    "# import tensorflow and MNIST dataset under the Keras API\n",
    "(x_train, y_train), (x_test, y_test) = tf.keras.datasets.mnist.load_data()\n",
    "# x_train and x_test parts contain greyscale RGB codes (from 0 to 255)\n",
    "# y_train and y_test parts contains labels from 0 to 9"
   ]
  },
  {
   "cell_type": "code",
   "execution_count": 81,
   "metadata": {},
   "outputs": [
    {
     "name": "stdout",
     "output_type": "stream",
     "text": [
      "8\n"
     ]
    },
    {
     "data": {
      "text/plain": [
       "<matplotlib.image.AxesImage at 0x24b84b38808>"
      ]
     },
     "execution_count": 81,
     "metadata": {},
     "output_type": "execute_result"
    },
    {
     "data": {
      "image/png": "[encoded data removed]",
      "text/plain": [
       "<Figure size 432x288 with 1 Axes>"
      ]
     },
     "metadata": {
      "needs_background": "light"
     },
     "output_type": "display_data"
    }
   ],
   "source": [
    "image_index = 7777 \n",
    "print(y_train[image_index]) \n",
    "plt.imshow(x_train[image_index], cmap='Greys')"
   ]
  },
  {
   "cell_type": "code",
   "execution_count": 82,
   "metadata": {},
   "outputs": [
    {
     "data": {
      "text/plain": [
       "(60000, 28, 28)"
      ]
     },
     "execution_count": 82,
     "metadata": {},
     "output_type": "execute_result"
    }
   ],
   "source": [
    "# 60000 represents the number of images in the train dataset and (28, 28) represents the size of the image 28 x 28 pixel\n",
    "x_train.shape"
   ]
  },
  {
   "cell_type": "code",
   "execution_count": 83,
   "metadata": {},
   "outputs": [
    {
     "name": "stdout",
     "output_type": "stream",
     "text": [
      "x_train shape: (60000, 28, 28, 1)\n",
      "Number of images in x_train 60000\n",
      "Number of images in x_test 10000\n"
     ]
    }
   ],
   "source": [
    "# Reshaping and Normalizing the Images\n",
    "# Reshaping the array to 4-dims so that it can work with the Keras API\n",
    "x_train = x_train.reshape(x_train.shape[0], 28, 28, 1)\n",
    "x_test = x_test.reshape(x_test.shape[0], 28, 28, 1)\n",
    "input_shape = (28, 28, 1)\n",
    "x_train = x_train.astype('float32')\n",
    "x_test = x_test.astype('float32')\n",
    "# Normalizing the RGB codes by dividing it to the max RGB value.\n",
    "x_train /= 255\n",
    "x_test /= 255\n",
    "print('x_train shape:', x_train.shape)\n",
    "print('Number of images in x_train', x_train.shape[0])\n",
    "print('Number of images in x_test', x_test.shape[0])"
   ]
  },
  {
   "cell_type": "code",
   "execution_count": 84,
   "metadata": {},
   "outputs": [],
   "source": [
    "# Creating a Sequential Model and adding the layers\n",
    "model = Sequential()\n",
    "# Keras Conv2D is a 2D Convolution Layer, this layer creates a convolution kernel that is wind with layers input which helps produce a tensor of outputs\n",
    "model.add(Conv2D(28, kernel_size=(3,3), input_shape=input_shape))\n",
    "# Max pooling operation for 2D spatial data. Downsamples the input representation by taking the maximum value over the window defined by pool_size for each dimension along the features axis. \n",
    "model.add(MaxPooling2D(pool_size=(2, 2)))\n",
    "# latten layer collapses the spatial dimensions of the input into the channel dimension\n",
    "model.add(Flatten()) \n",
    "# Dropout is a technique used to prevent a model from overfitting. Dropout works by randomly setting the outgoing edges of hidden units (neurons that make up hidden layers) to 0 at each update of the training phase\n",
    "# dense layer is just a regular layer of neurons in a neural network. Each neuron recieves input from all the neurons in the previous layer, thus densely connected\n",
    "model.add(Dense(128, activation=tf.nn.relu))\n",
    "model.add(Dropout(0.2))\n",
    "model.add(Dense(10,activation=tf.nn.softmax))"
   ]
  },
  {
   "cell_type": "code",
   "execution_count": 85,
   "metadata": {},
   "outputs": [
    {
     "name": "stdout",
     "output_type": "stream",
     "text": [
      "Train on 60000 samples, validate on 10000 samples\n",
      "Epoch 1/20\n",
      "60000/60000 [==============================] - 26s 441us/sample - loss: 0.2115 - acc: 0.9363 - val_loss: 0.0767 - val_acc: 0.9761\n",
      "Epoch 2/20\n",
      "60000/60000 [==============================] - 41s 676us/sample - loss: 0.0824 - acc: 0.9751 - val_loss: 0.0611 - val_acc: 0.9804\n",
      "Epoch 3/20\n",
      "60000/60000 [==============================] - 44s 728us/sample - loss: 0.0576 - acc: 0.9818 - val_loss: 0.0587 - val_acc: 0.9807\n",
      "Epoch 4/20\n",
      "60000/60000 [==============================] - 29s 479us/sample - loss: 0.0421 - acc: 0.9863 - val_loss: 0.0591 - val_acc: 0.9821\n",
      "Epoch 5/20\n",
      "60000/60000 [==============================] - 26s 435us/sample - loss: 0.0351 - acc: 0.9887 - val_loss: 0.0491 - val_acc: 0.9852\n",
      "Epoch 6/20\n",
      "60000/60000 [==============================] - 32s 537us/sample - loss: 0.0286 - acc: 0.9907 - val_loss: 0.0676 - val_acc: 0.9823\n",
      "Epoch 7/20\n",
      "60000/60000 [==============================] - 43s 709us/sample - loss: 0.0231 - acc: 0.9920 - val_loss: 0.0555 - val_acc: 0.9849\n",
      "Epoch 8/20\n",
      "60000/60000 [==============================] - 44s 736us/sample - loss: 0.0204 - acc: 0.9929 - val_loss: 0.0650 - val_acc: 0.9837\n",
      "Epoch 9/20\n",
      "60000/60000 [==============================] - 44s 728us/sample - loss: 0.0195 - acc: 0.9936 - val_loss: 0.0696 - val_acc: 0.9831\n",
      "Epoch 10/20\n",
      "60000/60000 [==============================] - 44s 731us/sample - loss: 0.0179 - acc: 0.9938 - val_loss: 0.0683 - val_acc: 0.9836\n",
      "Epoch 11/20\n",
      "60000/60000 [==============================] - 45s 752us/sample - loss: 0.0165 - acc: 0.9944 - val_loss: 0.0682 - val_acc: 0.9849\n",
      "Epoch 12/20\n",
      "60000/60000 [==============================] - 44s 739us/sample - loss: 0.0158 - acc: 0.9944 - val_loss: 0.0725 - val_acc: 0.9852\n",
      "Epoch 13/20\n",
      "60000/60000 [==============================] - 44s 741us/sample - loss: 0.0142 - acc: 0.9951 - val_loss: 0.0653 - val_acc: 0.9855\n",
      "Epoch 14/20\n",
      "60000/60000 [==============================] - 43s 724us/sample - loss: 0.0131 - acc: 0.9954 - val_loss: 0.0771 - val_acc: 0.9843\n",
      "Epoch 15/20\n",
      "60000/60000 [==============================] - 45s 752us/sample - loss: 0.0116 - acc: 0.9959 - val_loss: 0.0756 - val_acc: 0.9865\n",
      "Epoch 16/20\n",
      "60000/60000 [==============================] - 52s 866us/sample - loss: 0.0113 - acc: 0.9961 - val_loss: 0.0738 - val_acc: 0.9867\n",
      "Epoch 17/20\n",
      "60000/60000 [==============================] - 49s 815us/sample - loss: 0.0135 - acc: 0.9958 - val_loss: 0.0860 - val_acc: 0.9827loss: 0.\n",
      "Epoch 18/20\n",
      "60000/60000 [==============================] - 51s 852us/sample - loss: 0.0127 - acc: 0.9958 - val_loss: 0.0787 - val_acc: 0.9856\n",
      "Epoch 19/20\n",
      "60000/60000 [==============================] - 44s 735us/sample - loss: 0.0104 - acc: 0.9966 - val_loss: 0.0782 - val_acc: 0.9863\n",
      "Epoch 20/20\n",
      "60000/60000 [==============================] - 44s 727us/sample - loss: 0.0106 - acc: 0.9965 - val_loss: 0.0797 - val_acc: 0.9852\n"
     ]
    }
   ],
   "source": [
    "# optimize with a given loss function which uses a metric.Then fit the model by using train data\n",
    "model.compile(optimizer='adam', \n",
    "              loss='sparse_categorical_crossentropy', \n",
    "              metrics=['accuracy'])\n",
    "history = model.fit(x_train,y_train, epochs=20, batch_size=32, verbose=1,validation_data=(x_test, y_test))"
   ]
  },
  {
   "cell_type": "code",
   "execution_count": 88,
   "metadata": {},
   "outputs": [
    {
     "name": "stdout",
     "output_type": "stream",
     "text": [
      "10000/10000 [==============================] - 3s 286us/sample - loss: 0.0797 - acc: 0.9852\n",
      "dict_keys(['loss', 'acc', 'val_loss', 'val_acc'])\n"
     ]
    },
    {
     "data": {
      "image/png": "[encoded data removed]",
      "text/plain": [
       "<Figure size 432x288 with 1 Axes>"
      ]
     },
     "metadata": {
      "needs_background": "light"
     },
     "output_type": "display_data"
    }
   ],
   "source": [
    "model.evaluate(x_test, y_test)\n",
    "model.save('ML2_Assignment.h5')\n",
    "\n",
    "print(history.history.keys())\n",
    "\n",
    "plt.plot(history.history['acc'])\n",
    "plt.plot(history.history['val_acc'])\n",
    "plt.title('model accuracy')\n",
    "plt.ylabel('accuracy')\n",
    "plt.xlabel('epoch')\n",
    "plt.legend(['train', 'val'], loc='upper left')\n",
    "plt.show()"
   ]
  },
  {
   "cell_type": "code",
   "execution_count": 87,
   "metadata": {},
   "outputs": [
    {
     "name": "stderr",
     "output_type": "stream",
     "text": [
      "C:\\Users\\Loch Maya\\Anaconda2\\envs\\mypython3\\lib\\site-packages\\keras_preprocessing\\image\\utils.py:104: UserWarning: grayscale is deprecated. Please use color_mode = \"grayscale\"\n",
      "  warnings.warn('grayscale is deprecated. Please use '\n"
     ]
    },
    {
     "name": "stdout",
     "output_type": "stream",
     "text": [
      "7\n",
      "5\n"
     ]
    },
    {
     "data": {
      "image/png": "[encoded data removed]",
      "text/plain": [
       "<Figure size 432x288 with 1 Axes>"
      ]
     },
     "metadata": {
      "needs_background": "light"
     },
     "output_type": "display_data"
    }
   ],
   "source": [
    "# load and prepare the image\n",
    "def load_image(filename):\n",
    "    # load the image\n",
    "    img = load_img(filename, grayscale=True, target_size=(28, 28))\n",
    "    # convert to array\n",
    "    img = img_to_array(img)\n",
    "    # reshape into a single sample with 1 channel\n",
    "    img = img.reshape(1, 28, 28, 1)\n",
    "    # prepare pixel data\n",
    "    img = img.astype('float32')\n",
    "    img = img / 255.0\n",
    "    return img\n",
    "\n",
    "image_index = load_image('sample_image1.png')\n",
    "pred = model.predict(image_index)\n",
    "print(pred.argmax())\n",
    "\n",
    "image_index = 4440\n",
    "plt.imshow(x_test[image_index].reshape(28, 28),cmap='Greys')\n",
    "pred = model.predict(x_test[image_index].reshape(1, 28, 28, 1))\n",
    "print(pred.argmax())\n"
   ]
  },
  {
   "cell_type": "code",
   "execution_count": null,
   "metadata": {},
   "outputs": [],
   "source": []
  }
 ],
 "metadata": {
  "kernelspec": {
   "display_name": "Python 3",
   "language": "python",
   "name": "python3"
  },
  "language_info": {
   "codemirror_mode": {
    "name": "ipython",
    "version": 3
   },
   "file_extension": ".py",
   "mimetype": "text/x-python",
   "name": "python",
   "nbconvert_exporter": "python",
   "pygments_lexer": "ipython3",
   "version": "3.7.7"
  }
 },
 "nbformat": 4,
 "nbformat_minor": 4
}
